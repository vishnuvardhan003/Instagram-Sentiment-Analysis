{
 "cells": [
  {
   "cell_type": "code",
   "execution_count": null,
   "id": "4667a527",
   "metadata": {},
   "outputs": [],
   "source": [
    "import pathlib\n",
    "import pandas as pd\n",
    "import sys\n",
    "import csv\n",
    "import time\n",
    "import emoji\n",
    "from glob import glob\n",
    "from os.path import expanduser\n",
    "from sqlite3 import connect\n",
    "import os.path\n",
    "import instaloader\n",
    "import pandas as pd\n",
    "from matplotlib import pyplot as plt\n",
    "from instaloader import ConnectionException, Instaloader\n",
    "from textblob import TextBlob\n",
    "import matplotlib.pyplot as plt\n",
    "import pandas as pd\n",
    "import instaloader"
   ]
  },
  {
   "cell_type": "code",
   "execution_count": null,
   "id": "17bfc31a",
   "metadata": {},
   "outputs": [],
   "source": [
    "!pip install instaloader"
   ]
  },
  {
   "cell_type": "code",
   "execution_count": null,
   "id": "c5356811",
   "metadata": {},
   "outputs": [],
   "source": [
    "ig=instaloader.Instaloader()\n",
    "\n",
    "username=input(\"Enter username:\")\n",
    "\n",
    "#Fetching the details of provided useraname using instaloder object\n",
    "profile=instaloader.Profile.from_username(ig.context, username)\n",
    "\n",
    "print(\"Username: \", profile.username)\n",
    "print(\"Number of Posts Uploaded: \", profile.mediacount)\n",
    "print(profile.username+\" is having \" + str(profile.followers)+' followers.')\n",
    "print(profile.username+\" is following \" + str(profile.followees)+' people')\n",
    "print(\"Bio: \", profile.biography)\n",
    "instaloader.Instaloader().download_profile(username,profile_pic_only=True)"
   ]
  },
  {
   "cell_type": "code",
   "execution_count": null,
   "id": "e465c792",
   "metadata": {},
   "outputs": [],
   "source": [
    "profile.is_private"
   ]
  },
  {
   "cell_type": "code",
   "execution_count": null,
   "id": "74412037",
   "metadata": {},
   "outputs": [],
   "source": [
    "posts = profile.get_posts()\n",
    "# Iterate and download\n",
    "for index, post in enumerate(posts, 1):\n",
    "    ig.download_post(post, target=f\"{profile.username}_{index}\")"
   ]
  },
  {
   "cell_type": "code",
   "execution_count": null,
   "id": "2aef4e60",
   "metadata": {},
   "outputs": [],
   "source": [
    "posts = profile.get_posts()\n",
    "for post in posts:\n",
    "  print(post)"
   ]
  },
  {
   "cell_type": "code",
   "execution_count": null,
   "id": "2f3332ae",
   "metadata": {
    "scrolled": true
   },
   "outputs": [],
   "source": [
    "il = instaloader.Instaloader()\n",
    "\n",
    "try:\n",
    "    profile = instaloader.Profile.from_username(il.context, username)\n",
    "    print(f\"User {username} is logged in.\")\n",
    "except instaloader.exceptions.LoginRequiredException:\n",
    "    print(\"User is not logged in.\")"
   ]
  },
  {
   "cell_type": "code",
   "execution_count": null,
   "id": "f6650296",
   "metadata": {},
   "outputs": [],
   "source": [
    "path_to_firefox_cookies = \"C:\\\\Users\\\\N Vishnu\\\\AppData\\\\Roaming\\\\Mozilla\\\\Firefox\\\\Profiles\\\\xw7d8qyg.default-release\\\\cookies.sqlite\"\n",
    "FIREFOXCOOKIEFILE = glob(expanduser(path_to_firefox_cookies))[0]"
   ]
  },
  {
   "cell_type": "code",
   "execution_count": null,
   "id": "29bcf6e4",
   "metadata": {},
   "outputs": [],
   "source": [
    "instaloader = Instaloader(max_connection_attempts=1)"
   ]
  },
  {
   "cell_type": "code",
   "execution_count": null,
   "id": "9a122e18",
   "metadata": {},
   "outputs": [],
   "source": [
    "instaloader.context._session.cookies.update(connect(FIREFOXCOOKIEFILE)\n",
    "                                            .execute(\"SELECT name, value FROM moz_cookies \"\n",
    "                                                     \"WHERE host='.instagram.com'\"))"
   ]
  },
  {
   "cell_type": "code",
   "execution_count": null,
   "id": "34636846",
   "metadata": {},
   "outputs": [],
   "source": [
    "try:\n",
    "    username = instaloader.test_login()\n",
    "    if not username:\n",
    "        raise ConnectionException()\n",
    "except ConnectionException:\n",
    "    raise SystemExit(\"Cookie import failed. Are you logged in successfully in Firefox?\")"
   ]
  },
  {
   "cell_type": "code",
   "execution_count": null,
   "id": "584132b3",
   "metadata": {},
   "outputs": [],
   "source": [
    "instaloader.context.username = username"
   ]
  },
  {
   "cell_type": "code",
   "execution_count": null,
   "id": "259d4ce4",
   "metadata": {},
   "outputs": [],
   "source": [
    "instaloader.save_session_to_file()"
   ]
  },
  {
   "cell_type": "code",
   "execution_count": null,
   "id": "5b6e7b0d",
   "metadata": {},
   "outputs": [],
   "source": [
    "import instaloader"
   ]
  },
  {
   "cell_type": "code",
   "execution_count": null,
   "id": "944b8c70",
   "metadata": {},
   "outputs": [],
   "source": [
    "instagram = instaloader.Instaloader(\n",
    "    download_pictures=False,\n",
    "    download_videos=False,\n",
    "    download_video_thumbnails=False,\n",
    "    save_metadata=False,\n",
    "    max_connection_attempts=0\n",
    ")\n"
   ]
  },
  {
   "cell_type": "code",
   "execution_count": null,
   "id": "cd38ff73",
   "metadata": {
    "scrolled": false
   },
   "outputs": [],
   "source": [
    "instagram.context.login(\"nlpuser42\", \"nlpuser@4655\")\n",
    "instagram.save_session_to_file()"
   ]
  },
  {
   "cell_type": "code",
   "execution_count": null,
   "id": "ddb9d3bc",
   "metadata": {},
   "outputs": [],
   "source": [
    "SHORTCODE = input()"
   ]
  },
  {
   "cell_type": "code",
   "execution_count": null,
   "id": "282c2e02",
   "metadata": {},
   "outputs": [],
   "source": [
    "def scrape_data(url):\n",
    "    \n",
    "    post = instaloader.Post.from_shortcode(instagram.context, SHORTCODE)\n",
    "\n",
    "    output_path = pathlib.Path('Instagram post data')\n",
    "    output_path.mkdir(parents=True, exist_ok=True)\n",
    "    \n",
    "    csvName = SHORTCODE + '.csv'\n",
    "    post_file = output_path.joinpath(csvName ).open(\"w\", encoding=\"utf-8\")\n",
    "\n",
    "    field_names = [\n",
    "                \"post_shortcode\",\n",
    "                \"commenter_username\",\n",
    "                \"comment_text\",\n",
    "                \"comment_likes\"\n",
    "                ]\n",
    "\n",
    "    post_writer = csv.DictWriter(post_file, fieldnames=field_names)\n",
    "    post_writer.writeheader()\n",
    "\n",
    "    ## extracting comments from post\n",
    "    for x in post.get_comments():\n",
    "        post_info = {\n",
    "        \"post_shortcode\":post.shortcode,\n",
    "        \"commenter_username\": x.owner,\n",
    "        \"comment_text\": (emoji.demojize(x.text)).encode('utf-8', errors='ignore').decode() if x.text else \"\",\n",
    "        \"comment_likes\": x.likes_count\n",
    "        }\n",
    "        post_writer.writerow(post_info)\n",
    "\n",
    "    print(\"Done Scraping the data and formed Excel sheet!\")"
   ]
  },
  {
   "cell_type": "code",
   "execution_count": null,
   "id": "f376bb08",
   "metadata": {
    "scrolled": true
   },
   "outputs": [],
   "source": [
    "url = input(\"Enter the URL of the post : \")\n",
    "scrape_data(url)"
   ]
  },
  {
   "cell_type": "code",
   "execution_count": null,
   "id": "f5c75b6a",
   "metadata": {},
   "outputs": [],
   "source": [
    "df = pd.read_csv('Instagram post data\\\\C1qiO9zsPrs.csv')"
   ]
  },
  {
   "cell_type": "code",
   "execution_count": null,
   "id": "9a97b23f",
   "metadata": {},
   "outputs": [],
   "source": [
    "def getSentiment(text):\n",
    "    # Checking if text is not NaN\n",
    "    if isinstance(text, str):\n",
    "        return TextBlob(text).sentiment.polarity\n",
    "    else:\n",
    "        return None  \n",
    "\n",
    "# Creating column\n",
    "df['text_polarity'] = df['comment_text'].apply(getSentiment)\n",
    "\n",
    "# Convert the 'text_polarity' column to numeric, replacing NaN values with 0\n",
    "df['text_polarity'] = pd.to_numeric(df['text_polarity'], errors='coerce').fillna(0)\n",
    "\n",
    "# Defining bins and labels for sentiment categories\n",
    "bins = [-1, -0.0000000001, 0.0000000001, 1]\n",
    "labels = [\"Negative\", \"Neutral\", \"Positive\"]\n",
    "\n",
    "df['sentiment'] = pd.cut(df['text_polarity'], bins=bins, labels=labels)"
   ]
  },
  {
   "cell_type": "code",
   "execution_count": null,
   "id": "8374198f",
   "metadata": {},
   "outputs": [],
   "source": [
    "df.head()"
   ]
  },
  {
   "cell_type": "code",
   "execution_count": null,
   "id": "504776c6",
   "metadata": {},
   "outputs": [],
   "source": [
    "graph1 = df.groupby(['post_shortcode', 'sentiment']).count().reset_index()\n",
    "graph2 = graph1[graph1['post_shortcode'] == SHORTCODE]\n",
    "\n",
    "colors = [\"red\", \"orange\", \"green\"]\n",
    "\n",
    "plt.figure(figsize=(18, 9))\n",
    "plt.bar(graph2[\"sentiment\"], graph2[\"comment_text\"], color=colors)\n",
    "plt.title(\"Instagram Sentiment Based on Sentiment\", fontsize=20)\n",
    "plt.xlabel(\"Sentiment\", fontsize=18)\n",
    "plt.ylabel(\"Count\", fontsize=18)\n",
    "plt.xticks(rotation=0, fontsize=14)\n",
    "#plt.yticks(rotation=45, fontsize=14)\n",
    "plt.show()"
   ]
  },
  {
   "cell_type": "code",
   "execution_count": null,
   "id": "afc1b6ce",
   "metadata": {},
   "outputs": [],
   "source": []
  },
  {
   "cell_type": "code",
   "execution_count": null,
   "id": "a9062fa6",
   "metadata": {},
   "outputs": [],
   "source": []
  }
 ],
 "metadata": {
  "kernelspec": {
   "display_name": "Python 3 (ipykernel)",
   "language": "python",
   "name": "python3"
  },
  "language_info": {
   "codemirror_mode": {
    "name": "ipython",
    "version": 3
   },
   "file_extension": ".py",
   "mimetype": "text/x-python",
   "name": "python",
   "nbconvert_exporter": "python",
   "pygments_lexer": "ipython3",
   "version": "3.10.9"
  }
 },
 "nbformat": 4,
 "nbformat_minor": 5
}
